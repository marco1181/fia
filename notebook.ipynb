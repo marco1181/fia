{
 "cells": [
  {
   "cell_type": "code",
   "execution_count": 2,
   "metadata": {},
   "outputs": [],
   "source": [
    "import pandas as pd\n",
    "import numpy as np"
   ]
  },
  {
   "cell_type": "code",
   "execution_count": 3,
   "metadata": {},
   "outputs": [
    {
     "name": "stdout",
     "output_type": "stream",
     "text": [
      " O volume na unidade C ‚ OS\n",
      " O N£mero de S‚rie do Volume ‚ 94E5-496E\n",
      "\n",
      " Pasta de C:\\Users\\Marco\\Desktop\\github\\fia\\DADOS\n",
      "\n",
      "03/03/2020  21:34    <DIR>          .\n",
      "03/03/2020  21:34    <DIR>          ..\n",
      "03/03/2020  21:34        13.160.454 DadosBO_2017_1(ROUBO DE VEICULOS).txt\n",
      "03/03/2020  21:34        12.724.588 DadosBO_2017_10(ROUBO DE VEICULOS).txt\n",
      "03/03/2020  21:34        12.509.352 DadosBO_2017_11(ROUBO DE VEICULOS).txt\n",
      "03/03/2020  21:34        12.436.244 DadosBO_2017_12(ROUBO DE VEICULOS).txt\n",
      "03/03/2020  21:34        12.741.142 DadosBO_2017_2(ROUBO DE VEICULOS).txt\n",
      "03/03/2020  21:34        14.063.200 DadosBO_2017_3(ROUBO DE VEICULOS).txt\n",
      "03/03/2020  21:34        12.930.898 DadosBO_2017_4(ROUBO DE VEICULOS).txt\n",
      "03/03/2020  21:34        13.245.126 DadosBO_2017_5(ROUBO DE VEICULOS).txt\n",
      "03/03/2020  21:34        12.248.100 DadosBO_2017_6(ROUBO DE VEICULOS).txt\n",
      "03/03/2020  21:34        11.898.398 DadosBO_2017_7(ROUBO DE VEICULOS).txt\n",
      "03/03/2020  21:34        12.476.214 DadosBO_2017_8(ROUBO DE VEICULOS).txt\n",
      "03/03/2020  21:34        12.207.242 DadosBO_2017_9(ROUBO DE VEICULOS).txt\n",
      "03/03/2020  21:34         9.858.632 DadosBO_2018_1(ROUBO DE VEICULOS).txt\n",
      "03/03/2020  21:34        12.133.758 DadosBO_2018_10(ROUBO DE VEICULOS).txt\n",
      "03/03/2020  21:34        11.521.600 DadosBO_2018_11(ROUBO DE VEICULOS).txt\n",
      "03/03/2020  21:34        11.808.256 DadosBO_2018_12(ROUBO DE VEICULOS).txt\n",
      "03/03/2020  21:34        10.197.760 DadosBO_2018_2(ROUBO DE VEICULOS).txt\n",
      "03/03/2020  21:34        10.991.636 DadosBO_2018_3(ROUBO DE VEICULOS).txt\n",
      "03/03/2020  21:34        10.782.680 DadosBO_2018_4(ROUBO DE VEICULOS).txt\n",
      "03/03/2020  21:34        11.085.638 DadosBO_2018_5(ROUBO DE VEICULOS).txt\n",
      "03/03/2020  21:34        11.483.088 DadosBO_2018_6(ROUBO DE VEICULOS).txt\n",
      "03/03/2020  21:34        10.632.198 DadosBO_2018_7(ROUBO DE VEICULOS).txt\n",
      "03/03/2020  21:34        11.084.942 DadosBO_2018_8(ROUBO DE VEICULOS).txt\n",
      "03/03/2020  21:34        10.854.780 DadosBO_2018_9(ROUBO DE VEICULOS).txt\n",
      "03/03/2020  21:34         9.194.980 DadosBO_2019_1(ROUBO DE VEICULOS).txt\n",
      "03/03/2020  21:34         8.309.250 DadosBO_2019_2(ROUBO DE VEICULOS).txt\n",
      "03/03/2020  21:34         9.905.298 DadosBO_2019_3(ROUBO DE VEICULOS).txt\n",
      "03/03/2020  21:34         9.640.094 DadosBO_2019_4(ROUBO DE VEICULOS).txt\n",
      "03/03/2020  21:34         9.305.542 DadosBO_2019_5(ROUBO DE VEICULOS).txt\n",
      "03/03/2020  21:34         9.090.708 DadosBO_2019_6(ROUBO DE VEICULOS).txt\n",
      "03/03/2020  21:34         8.928.460 DadosBO_2019_7(ROUBO DE VEICULOS).txt\n",
      "03/03/2020  21:34         8.724.960 DadosBO_2019_8(ROUBO DE VEICULOS).txt\n",
      "03/03/2020  21:34    <DIR>          Nova pasta\n",
      "              32 arquivo(s)    358.175.218 bytes\n",
      "               3 pasta(s)   232.312.111.104 bytes dispon¡veis\n"
     ]
    }
   ],
   "source": [
    "ls DADOS"
   ]
  },
  {
   "cell_type": "code",
   "execution_count": null,
   "metadata": {},
   "outputs": [],
   "source": []
  }
 ],
 "metadata": {
  "kernelspec": {
   "display_name": "Python 3",
   "language": "python",
   "name": "python3"
  },
  "language_info": {
   "codemirror_mode": {
    "name": "ipython",
    "version": 3
   },
   "file_extension": ".py",
   "mimetype": "text/x-python",
   "name": "python",
   "nbconvert_exporter": "python",
   "pygments_lexer": "ipython3",
   "version": "3.6.3"
  }
 },
 "nbformat": 4,
 "nbformat_minor": 2
}
